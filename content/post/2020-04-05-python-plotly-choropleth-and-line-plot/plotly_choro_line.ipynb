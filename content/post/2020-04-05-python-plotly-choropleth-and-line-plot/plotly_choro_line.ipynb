{
 "cells": [
  {
   "cell_type": "markdown",
   "metadata": {},
   "source": [
    "Import libs:"
   ]
  },
  {
   "cell_type": "code",
   "execution_count": 1,
   "metadata": {},
   "outputs": [],
   "source": [
    "import pandas as pd\n",
    "import numpy as np\n",
    "import plotly.graph_objects as go\n",
    "import plotly.express as px\n",
    "from plotly.subplots import make_subplots\n",
    "from ipywidgets import widgets\n"
   ]
  },
  {
   "cell_type": "markdown",
   "metadata": {},
   "source": [
    "Load toy geo data:"
   ]
  },
  {
   "cell_type": "code",
   "execution_count": 2,
   "metadata": {},
   "outputs": [],
   "source": [
    "%run -i 'funs.py'\n",
    "df = px.data.election().reset_index()\n",
    "geojson = px.data.election_geojson()\n",
    "\n",
    "# only take ten districts:\n",
    "df = df[0:11]\n",
    "\n",
    "# correct different spelling of one district in the 2 objects:\n",
    "df.loc[df['district'] == '112-DeLorimier', 'district'] = '112-De Lorimier'\n",
    "# only take the polygons of the districts in df:\n",
    "geojson['features'] = [feature for feature in geojson['features'] if feature['properties']['district'] in df.district.array]\n"
   ]
  },
  {
   "cell_type": "markdown",
   "metadata": {},
   "source": [
    "Create toy time series data (very hacky):"
   ]
  },
  {
   "cell_type": "code",
   "execution_count": 3,
   "metadata": {},
   "outputs": [],
   "source": [
    "def create_ts_data(df):\n",
    "    tag = pd.Series(np.arange(10))\n",
    "    tage = pd.concat([tag] * len(df.district))\n",
    "    df_ts = pd.DataFrame(df['district'].append([df['district']]*9))\n",
    "    df_ts['index_orig'] = df_ts.index\n",
    "    df_ts = df_ts.reset_index()\n",
    "    df_ts['tag'] = tage.sort_values().array\n",
    "    df_ts['randNumCol'] = df_ts['index_orig']#np.random.randint(1, 60, df_ts.shape[0])\n",
    "    return(df_ts)\n",
    "\n",
    "df_ts = create_ts_data(df)"
   ]
  },
  {
   "cell_type": "markdown",
   "metadata": {},
   "source": [
    "Create plotly figure:"
   ]
  },
  {
   "cell_type": "code",
   "execution_count": 4,
   "metadata": {},
   "outputs": [
    {
     "data": {
      "application/vnd.jupyter.widget-view+json": {
       "model_id": "482a9a83183143cca0d0ec179dbcc3a2",
       "version_major": 2,
       "version_minor": 0
      },
      "text/plain": [
       "FigureWidget({\n",
       "    'data': [{'featureidkey': 'properties.district',\n",
       "              'geo': 'geo',\n",
       "              …"
      ]
     },
     "metadata": {},
     "output_type": "display_data"
    }
   ],
   "source": [
    "# Create toy value for coloring the choropleths (actually this has to be derived from the time series data):\n",
    "df['col'] = np.random.randint(1, 60, df.shape[0])\n",
    "\n",
    "# create choropleth object:\n",
    "choro = go.Choropleth(geojson      = geojson, \n",
    "                      z            = df.col,\n",
    "                      locations    = df.district, \n",
    "                      featureidkey = \"properties.district\",\n",
    "                      selected     = {'marker': {'opacity': 1}},\n",
    "                      unselected   = {'marker': {'opacity': 0.3}}\n",
    "                     )\n",
    "\n",
    "\n",
    "# create line plot object:\n",
    "linep = px.line(df_ts, x='tag', y='randNumCol', color='district')\n",
    "\n",
    "# Create a figure with 2 subplots:\n",
    "fig = make_subplots(\n",
    "    rows=2, cols=1,\n",
    "    row_heights=[0.7, 0.3],\n",
    "    specs=[[{\"type\": \"choropleth\"}], \n",
    "            [{\"type\": \"scatter\"}]])\n",
    "\n",
    "fig.add_trace(\n",
    "    choro,\n",
    "    row=1, col=1\n",
    ")\n",
    "\n",
    "for i in range(len(linep['data'])):\n",
    "    fig.append_trace(linep['data'][i], col=1, row=2)\n",
    "    fig.update_traces(mode='markers+lines', col=1, row=2)\n",
    "\n",
    "fig.update_geos(fitbounds=\"locations\", visible=False)\n",
    "\n",
    "fw = go.FigureWidget(\n",
    "    fig\n",
    ")\n",
    "fw.update_layout(\n",
    "    dragmode='lasso', \n",
    "    hovermode='closest',\n",
    "    showlegend=False)\n",
    "\n",
    "\n",
    "# (comment out all the following to see how weird the subplots are coupled on selection events)\n",
    "\n",
    "# selection events:\n",
    "\n",
    "# choropleth is the first trace; \n",
    "# every line in line plot is an individual trace (this makes it slow):\n",
    "polygons = fw.data[0]\n",
    "scatter = fw.data[1:(len(df_ts)+1)]\n",
    "\n",
    "# function to update the line width on selection \n",
    "# (it works when selecting line points, \n",
    "# when selecting polygons, not the correct lines are selected):\n",
    "def update_line(trace, points, selector):\n",
    "    if points.point_inds:\n",
    "        trace['line']['width'] = 4\n",
    "#     poly_feats = polygons.geojson['features']\n",
    "#     district_names = [feature['properties']['district'] for feature in poly_feats]\n",
    "#     dist_inds = district_names.index(trace['name'])\n",
    "#     fw.data[0].selectedpoints = dist_inds\n",
    "\n",
    "# try to update polygons when selecting lines, doesn't work:\n",
    "def choro_update(trace, points, selector):\n",
    "    if trace['name'] == 'trace 0':\n",
    "        sel_inds = np.array(pd.Series([list(i['selectedpoints'] or []) for i in scatter]).astype(bool).astype(int))\n",
    "        fw.data[0].selectedpoints = sel_inds\n",
    "\n",
    "# apply select events to the figure widget\n",
    "# (not sure if batch_update() changes anything):\n",
    "with fw.batch_update():\n",
    "    for i in range(len(scatter)):\n",
    "        scatter[i].on_selection(update_line)\n",
    "    polygons.on_selection(choro_update)\n",
    "        \n",
    "fw"
   ]
  },
  {
   "cell_type": "markdown",
   "metadata": {},
   "source": [
    "Import data from everyonecounts.de:"
   ]
  },
  {
   "cell_type": "code",
   "execution_count": null,
   "metadata": {},
   "outputs": [],
   "source": [
    "from pandas.io.json import json_normalize\n",
    "import pandas as pd\n",
    "import urllib.request, json \n",
    "with urllib.request.urlopen(\"https://0he6m5aakd.execute-api.eu-central-1.amazonaws.com/prod\") as url:\n",
    "    data = json.loads(url.read().decode())\n",
    "df_scores = pd.DataFrame(data)\n",
    "df_scores\n",
    "\n",
    "df_scores = pd.DataFrame.from_dict(json_normalize(data))\n",
    "# df_scores[\"id\"] = df_scores.index\n",
    "df_scores = df_scores.transpose()\n",
    "# df_scores.columns = ['a']\n",
    "df_scores = df_scores.reset_index()\n",
    "df_scores = df_scores['index'].str.split('[.]', expand=True)\n",
    "df_scores\n",
    "\n",
    "df_scores = df_scores.loc[:,[1, 2, 3]]\n",
    "df_scores.columns = ['date', 'ags', 'score']\n",
    "\n",
    "df_scores"
   ]
  },
  {
   "cell_type": "code",
   "execution_count": null,
   "metadata": {},
   "outputs": [],
   "source": [
    "df_scores.query('score == \"hystreet_score\"')"
   ]
  },
  {
   "cell_type": "code",
   "execution_count": null,
   "metadata": {},
   "outputs": [],
   "source": []
  }
 ],
 "metadata": {
  "jupytext": {
   "formats": "ipynb,md"
  },
  "kernelspec": {
   "display_name": "Python 3",
   "language": "python",
   "name": "python3"
  },
  "language_info": {
   "codemirror_mode": {
    "name": "ipython",
    "version": 3
   },
   "file_extension": ".py",
   "mimetype": "text/x-python",
   "name": "python",
   "nbconvert_exporter": "python",
   "pygments_lexer": "ipython3",
   "version": "3.7.3"
  }
 },
 "nbformat": 4,
 "nbformat_minor": 4
}
